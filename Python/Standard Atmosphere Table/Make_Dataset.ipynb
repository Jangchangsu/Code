{
 "cells": [
  {
   "cell_type": "code",
   "execution_count": 2,
   "metadata": {},
   "outputs": [],
   "source": [
    "import os\n",
    "import pandas as pd\n",
    "import numpy as np\n",
    "import datetime"
   ]
  },
  {
   "cell_type": "code",
   "execution_count": 4,
   "metadata": {},
   "outputs": [
    {
     "name": "stdout",
     "output_type": "stream",
     "text": [
      "     Altitude(m)  Temperature(K)  Pressure(N/m^2)  Density(Kg/m^3)\n",
      "0              0          288.16    101325.000000         1.225183\n",
      "1            100          287.51    100129.260100         1.213462\n",
      "2            200          286.86     98944.972606         1.201827\n",
      "3            300          286.21     97772.053408         1.190277\n",
      "4            400          285.56     96610.418826         1.178812\n",
      "..           ...             ...              ...              ...\n",
      "186        18500          216.66      5504.501433         0.088523\n",
      "187        18600          216.66      5418.513488         0.087140\n",
      "188        18700          216.66      5333.868793         0.085779\n",
      "189        18800          216.66      5250.546366         0.084439\n",
      "190        18900          216.66      5168.525551         0.083120\n",
      "\n",
      "[191 rows x 4 columns]\n"
     ]
    }
   ],
   "source": [
    "start_point = 0\n",
    "troposphere_point = 11000\n",
    "stratosphere_point = 18900\n",
    "T0= 288.16\n",
    "P0 = 101325\n",
    "start_density = 1.2250\n",
    "L = 0.0065\n",
    "g = 9.80665\n",
    "R = 287\n",
    "\n",
    "troposphere_altitude_range = list(range(start_point, troposphere_point+1, 100))\n",
    "stratosphere_altitude_range = list(range(troposphere_point, stratosphere_point+1, 100))\n",
    "altitude_range = troposphere_altitude_range + stratosphere_altitude_range\n",
    "\n",
    "troposphere_temp_range = [T0-L*altitude for altitude in troposphere_altitude_range]\n",
    "stratosphere_temp_range = [T0-L*troposphere_point] * len(stratosphere_altitude_range)\n",
    "temp_range = troposphere_temp_range +stratosphere_temp_range\n",
    "\n",
    "troposphere_pressure_range = [P0*(1-(L * altitude)/T0)** ((g) / (R * L)) for altitude in troposphere_altitude_range]\n",
    "stratosphere_pressure_range = [P0*(2.718)**(-((g)/(R*217)*altitude)) for altitude in stratosphere_altitude_range]\n",
    "pressure_range = troposphere_pressure_range + stratosphere_pressure_range\n",
    "\n",
    "troposphere_density_range = [(pressure/(R*temp)) for pressure,temp in zip(troposphere_pressure_range, troposphere_temp_range)]\n",
    "stratosphere_density_range = [(pressure/(R*temp)) for pressure,temp in zip(stratosphere_pressure_range, stratosphere_temp_range)]\n",
    "density_range = troposphere_density_range + stratosphere_density_range\n",
    "\n",
    "newdf = pd.DataFrame({'Altitude(m)' : altitude_range,'Temperature(K)': temp_range,'Pressure(N/m^2)':pressure_range, 'Density(Kg/m^3)':density_range})\n",
    "print(newdf)\n",
    "newdf.to_csv('ISA.csv', index=False, encoding='euc-kr')"
   ]
  },
  {
   "cell_type": "code",
   "execution_count": null,
   "metadata": {},
   "outputs": [],
   "source": []
  }
 ],
 "metadata": {
  "kernelspec": {
   "display_name": "Python 3",
   "language": "python",
   "name": "python3"
  },
  "language_info": {
   "codemirror_mode": {
    "name": "ipython",
    "version": 3
   },
   "file_extension": ".py",
   "mimetype": "text/x-python",
   "name": "python",
   "nbconvert_exporter": "python",
   "pygments_lexer": "ipython3",
   "version": "3.11.2"
  },
  "orig_nbformat": 4
 },
 "nbformat": 4,
 "nbformat_minor": 2
}
